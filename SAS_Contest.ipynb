{
 "cells": [
  {
   "cell_type": "code",
   "execution_count": 13,
   "id": "121a2756-50ec-4108-ac6e-2c60269f6284",
   "metadata": {},
   "outputs": [
    {
     "name": "stdout",
     "output_type": "stream",
     "text": [
      "         date  gallons\n",
      "0  2023-05-14  32842.4\n",
      "1  2023-05-21  44470.1\n",
      "2  2023-05-28  39840.6\n",
      "3  2023-06-04  33768.5\n",
      "4  2023-06-11  35640.4\n",
      "..        ...      ...\n",
      "88 2025-01-19  10510.0\n",
      "89 2025-01-26   9750.0\n",
      "90 2025-02-02  11047.4\n",
      "91 2025-02-09  22942.6\n",
      "92 2025-02-16  19960.0\n",
      "\n",
      "[93 rows x 2 columns]\n"
     ]
    }
   ],
   "source": [
    "import pandas as pd\n",
    "\n",
    "# Load data\n",
    "data = pd.read_excel('rawdata.xlsx')\n",
    "\n",
    "# Remove day of the week from date column\n",
    "data['date'] = data['date'].apply(lambda x: x.split(', ')[1])\n",
    "\n",
    "# Convert date to datetime format using a flexible parser\n",
    "data['date'] = pd.to_datetime(data['date'], format='%d %b %Y', dayfirst=True)\n",
    "\n",
    "# Filter data for Cooling category\n",
    "cooling_data = data[data['metername'] == 'Bldg. T (Cooling)']\n",
    "\n",
    "cooling_data = cooling_data.drop(columns=['metername'])\n",
    "\n",
    "# Print the resulting DataFrame\n",
    "print(cooling_data)"
   ]
  },
  {
   "cell_type": "code",
   "execution_count": 19,
   "id": "9496e512-24a6-4489-b18a-3375297db872",
   "metadata": {},
   "outputs": [
    {
     "name": "stdout",
     "output_type": "stream",
     "text": [
      "          date  gallons\n",
      "93  2023-05-14  48020.0\n",
      "94  2023-05-21  48260.0\n",
      "95  2023-05-28  48092.0\n",
      "96  2023-06-04  46176.0\n",
      "97  2023-06-11  30048.0\n",
      "..         ...      ...\n",
      "181 2025-01-19  35462.0\n",
      "182 2025-01-26  31922.0\n",
      "183 2025-02-02  34815.0\n",
      "184 2025-02-09  33529.0\n",
      "185 2025-02-16  34134.0\n",
      "\n",
      "[93 rows x 2 columns]\n"
     ]
    }
   ],
   "source": [
    "import pandas as pd\n",
    "\n",
    "# Load data\n",
    "data_2 = pd.read_excel('rawdata.xlsx')\n",
    "\n",
    "# Remove day of the week from date column\n",
    "data_2['date'] = data_2['date'].apply(lambda x: x.split(', ')[1])\n",
    "\n",
    "# Convert date to datetime format using a flexible parser\n",
    "data_2['date'] = pd.to_datetime(data_2['date'], format='%d %b %Y', dayfirst=True)\n",
    "\n",
    "# Filter data for Cooling category\n",
    "main_data = data_2[data_2['metername'] == 'Bldg. T (Main)']\n",
    "\n",
    "main_data = main_data.drop(columns=['metername'])\n",
    "\n",
    "# Print the resulting DataFrame\n",
    "print(main_data)"
   ]
  },
  {
   "cell_type": "code",
   "execution_count": 17,
   "id": "94c96689-0c8a-49bb-ab16-54f1dddd65ea",
   "metadata": {},
   "outputs": [
    {
     "name": "stdout",
     "output_type": "stream",
     "text": [
      "Forecasted Demand: 93    20297.618094\n",
      "94    20264.275760\n",
      "95    20267.568567\n",
      "96    20267.243378\n",
      "Name: predicted_mean, dtype: float64\n"
     ]
    }
   ],
   "source": [
    "import pandas as pd\n",
    "from statsmodels.tsa.arima.model import ARIMA\n",
    "\n",
    "# Fit ARIMA model\n",
    "model = ARIMA(cooling_data['gallons'], order=(1,1,1))\n",
    "results = model.fit()\n",
    "\n",
    "# Forecast for the next four weeks\n",
    "forecasted_demand = results.forecast(steps=4)\n",
    "\n",
    "print(\"Forecasted Demand:\", forecasted_demand)"
   ]
  },
  {
   "cell_type": "code",
   "execution_count": 23,
   "id": "bdd4e27c-9ab1-405a-b066-fb08a5261fb7",
   "metadata": {},
   "outputs": [
    {
     "name": "stdout",
     "output_type": "stream",
     "text": [
      "Forecasted Demand: 93    33655.680599\n",
      "94    33327.538374\n",
      "95    33102.422439\n",
      "96    32947.985793\n",
      "Name: predicted_mean, dtype: float64\n"
     ]
    },
    {
     "name": "stderr",
     "output_type": "stream",
     "text": [
      "C:\\Users\\Admin\\anaconda3\\Lib\\site-packages\\statsmodels\\tsa\\base\\tsa_model.py:473: ValueWarning: An unsupported index was provided and will be ignored when e.g. forecasting.\n",
      "  self._init_dates(dates, freq)\n",
      "C:\\Users\\Admin\\anaconda3\\Lib\\site-packages\\statsmodels\\tsa\\base\\tsa_model.py:473: ValueWarning: An unsupported index was provided and will be ignored when e.g. forecasting.\n",
      "  self._init_dates(dates, freq)\n",
      "C:\\Users\\Admin\\anaconda3\\Lib\\site-packages\\statsmodels\\tsa\\base\\tsa_model.py:473: ValueWarning: An unsupported index was provided and will be ignored when e.g. forecasting.\n",
      "  self._init_dates(dates, freq)\n",
      "C:\\Users\\Admin\\anaconda3\\Lib\\site-packages\\statsmodels\\tsa\\base\\tsa_model.py:836: ValueWarning: No supported index is available. Prediction results will be given with an integer index beginning at `start`.\n",
      "  return get_prediction_index(\n",
      "C:\\Users\\Admin\\anaconda3\\Lib\\site-packages\\statsmodels\\tsa\\base\\tsa_model.py:836: FutureWarning: No supported index is available. In the next version, calling this method in a model without a supported index will result in an exception.\n",
      "  return get_prediction_index(\n"
     ]
    }
   ],
   "source": [
    "import pandas as pd\n",
    "from statsmodels.tsa.arima.model import ARIMA\n",
    "\n",
    "# Fit ARIMA model\n",
    "model_2 = ARIMA(main_data['gallons'], order=(1,1,1))\n",
    "results_2 = model_2.fit()\n",
    "\n",
    "# Forecast for the next four weeks\n",
    "forecasted_demand_main = results_2.forecast(steps=4)\n",
    "\n",
    "print(\"Forecasted Demand:\", forecasted_demand_main)"
   ]
  },
  {
   "cell_type": "code",
   "execution_count": 29,
   "id": "994ffdbe-731a-477f-b955-180a97426b43",
   "metadata": {},
   "outputs": [
    {
     "name": "stdout",
     "output_type": "stream",
     "text": [
      "         date   gallons\n",
      "0  2023-05-14  32842.40\n",
      "1  2023-05-21  44470.10\n",
      "2  2023-05-28  39840.60\n",
      "3  2023-06-04  33768.50\n",
      "4  2023-06-11  35640.40\n",
      "..        ...       ...\n",
      "92 2025-02-16  19960.00\n",
      "93 2025-02-23  20297.61\n",
      "94 2025-03-02  20264.27\n",
      "95 2025-03-09  20267.56\n",
      "96 2025-03-16  20267.24\n",
      "\n",
      "[97 rows x 2 columns]\n"
     ]
    }
   ],
   "source": [
    "import pandas as pd\n",
    "\n",
    "# Assuming cooling_data is your DataFrame with 'date' and 'gallons' columns\n",
    "# Create new rows\n",
    "new_rows_cooling = pd.DataFrame({\n",
    "    'date': ['2025-02-23', '2025-03-02', '2025-03-09', '2025-03-16'],\n",
    "    'gallons': [20297.61, 20264.27, 20267.56, 20267.24]\n",
    "})\n",
    "\n",
    "# Convert date to datetime format\n",
    "cooling_data['date'] = pd.to_datetime(cooling_data['date'])\n",
    "new_rows_cooling['date'] = pd.to_datetime(new_rows_cooling['date'])\n",
    "\n",
    "# Concatenate the new rows with the original DataFrame\n",
    "cooling_data = pd.concat([cooling_data, new_rows_cooling], ignore_index=True)\n",
    "\n",
    "print(cooling_data)"
   ]
  },
  {
   "cell_type": "code",
   "execution_count": 31,
   "id": "4057aa10-d22d-47bc-942e-b8871f04345c",
   "metadata": {},
   "outputs": [
    {
     "name": "stdout",
     "output_type": "stream",
     "text": [
      "         date   gallons\n",
      "0  2023-05-14  48020.00\n",
      "1  2023-05-21  48260.00\n",
      "2  2023-05-28  48092.00\n",
      "3  2023-06-04  46176.00\n",
      "4  2023-06-11  30048.00\n",
      "..        ...       ...\n",
      "92 2025-02-16  34134.00\n",
      "93 2025-02-23  33655.68\n",
      "94 2025-03-02  33327.53\n",
      "95 2025-03-09  33102.42\n",
      "96 2025-03-16  32947.98\n",
      "\n",
      "[97 rows x 2 columns]\n"
     ]
    }
   ],
   "source": [
    "import pandas as pd\n",
    "\n",
    "# Assuming cooling_data is your DataFrame with 'date' and 'gallons' columns\n",
    "# Create new rows\n",
    "new_rows_main = pd.DataFrame({\n",
    "    'date': ['2025-02-23', '2025-03-02', '2025-03-09', '2025-03-16'],\n",
    "    'gallons': [33655.68, 33327.53, 33102.42, 32947.98]\n",
    "})\n",
    "\n",
    "# Convert date to datetime format\n",
    "main_data['date'] = pd.to_datetime(main_data['date'])\n",
    "new_rows_main['date'] = pd.to_datetime(new_rows_main['date'])\n",
    "\n",
    "# Concatenate the new rows with the original DataFrame\n",
    "main_data = pd.concat([main_data, new_rows_main], ignore_index=True)\n",
    "\n",
    "print(main_data)"
   ]
  },
  {
   "cell_type": "code",
   "execution_count": 33,
   "id": "9fdb6178-199c-4acc-938d-7180920bde2a",
   "metadata": {},
   "outputs": [
    {
     "name": "stdout",
     "output_type": "stream",
     "text": [
      "         date  combined_gallons\n",
      "0  2023-05-14          80862.40\n",
      "1  2023-05-21          92730.10\n",
      "2  2023-05-28          87932.60\n",
      "3  2023-06-04          79944.50\n",
      "4  2023-06-11          65688.40\n",
      "..        ...               ...\n",
      "92 2025-02-16          54094.00\n",
      "93 2025-02-23          53953.29\n",
      "94 2025-03-02          53591.80\n",
      "95 2025-03-09          53369.98\n",
      "96 2025-03-16          53215.22\n",
      "\n",
      "[97 rows x 2 columns]\n"
     ]
    }
   ],
   "source": [
    "import pandas as pd\n",
    "\n",
    "# Assuming both DataFrames have 'date' and 'gallons' columns\n",
    "# Ensure both DataFrames have the same date index\n",
    "cooling_data.set_index('date', inplace=True)\n",
    "main_data.set_index('date', inplace=True)\n",
    "\n",
    "# Align DataFrames by date and add gallons\n",
    "combined_data = cooling_data['gallons'].add(main_data['gallons'], fill_value=0).to_frame('combined_gallons')\n",
    "\n",
    "# Reset index to include 'date' as a column\n",
    "combined_data.reset_index(inplace=True)\n",
    "\n",
    "print(combined_data)"
   ]
  },
  {
   "cell_type": "code",
   "execution_count": 35,
   "id": "ac8ace03-de78-4b5f-a8bf-2f58a2fded45",
   "metadata": {},
   "outputs": [
    {
     "name": "stdout",
     "output_type": "stream",
     "text": [
      "         date  combined_gallons\n",
      "93 2025-02-23          53953.29\n",
      "94 2025-03-02          53591.80\n",
      "95 2025-03-09          53369.98\n",
      "96 2025-03-16          53215.22\n"
     ]
    }
   ],
   "source": [
    "# Get the last four rows from combined_data\n",
    "forecasted_data = combined_data.tail(4)\n",
    "\n",
    "print(forecasted_data)"
   ]
  },
  {
   "cell_type": "code",
   "execution_count": 39,
   "id": "b9fb4e9e-6de7-4f32-a4dc-542e650c9d58",
   "metadata": {},
   "outputs": [
    {
     "name": "stdout",
     "output_type": "stream",
     "text": [
      "Forecasted Demands: [53953.29 53591.8  53369.98 53215.22]\n"
     ]
    }
   ],
   "source": [
    "# Extract forecasted demands\n",
    "forecasted_demands = forecasted_data['combined_gallons'].values\n",
    "\n",
    "print(\"Forecasted Demands:\", forecasted_demands)"
   ]
  },
  {
   "cell_type": "code",
   "execution_count": 51,
   "id": "e03d2bfa-534d-4810-9642-da4ee70bc2be",
   "metadata": {},
   "outputs": [
    {
     "name": "stdout",
     "output_type": "stream",
     "text": [
      "Best Contract Tier: Tier7\n",
      "Total Water Cost: $26785.97\n",
      "\n",
      "Weekly Allocation:\n",
      "Week 1:\n",
      "  Purchase from Water Co.: 40464.97 gallons\n",
      "  Use from Water Storage Tank: 13488.32 gallons\n",
      "  Ending Water Storage: 61011.68 gallons\n",
      "Week 2:\n",
      "  Purchase from Water Co.: 40193.85 gallons\n",
      "  Use from Water Storage Tank: 13397.95 gallons\n",
      "  Ending Water Storage: 65613.73 gallons\n",
      "Week 3:\n",
      "  Purchase from Water Co.: 40000.00 gallons\n",
      "  Use from Water Storage Tank: 13369.98 gallons\n",
      "  Ending Water Storage: 72243.75 gallons\n",
      "Week 4:\n",
      "  Purchase from Water Co.: 40000.00 gallons\n",
      "  Use from Water Storage Tank: 13303.81 gallons\n",
      "  Ending Water Storage: 80939.94 gallons\n",
      "\n",
      "Savings compared to other tiers:\n",
      "  Savings vs Tier1: $13222.51\n",
      "  Savings vs Tier2: $7823.28\n",
      "  Savings vs Tier3: $6430.67\n",
      "  Savings vs Tier4: $4617.49\n",
      "  Savings vs Tier5: $2404.32\n",
      "  Savings vs Tier6: $1297.73\n",
      "  Savings vs Tier8: $518.19\n",
      "  Savings vs Tier9: $718.19\n",
      "  Savings vs Tier10: $8718.19\n"
     ]
    }
   ],
   "source": [
    "import numpy as np\n",
    "from scipy.optimize import minimize\n",
    "import pandas as pd\n",
    "\n",
    "# Precipitation amounts for each week\n",
    "precipitation = np.array([12000, 18000, 20000, 22000])\n",
    "\n",
    "# Treatment costs for each week\n",
    "treatment_costs = np.array([0.18, 0.18, 0.10, 0.10])\n",
    "\n",
    "# Contract tiers (price per gallon and minimum purchase)\n",
    "contract_tiers = {\n",
    "    'Tier1': {'price': 0.25, 'min_gallons': 10000},\n",
    "    'Tier2': {'price': 0.20, 'min_gallons': 15000},\n",
    "    'Tier3': {'price': 0.18, 'min_gallons': 20000},\n",
    "    'Tier4': {'price': 0.16, 'min_gallons': 25000},\n",
    "    'Tier5': {'price': 0.14, 'min_gallons': 30000},\n",
    "    'Tier6': {'price': 0.13, 'min_gallons': 35000},\n",
    "    'Tier7': {'price': 0.12, 'min_gallons': 40000},\n",
    "    'Tier8': {'price': 0.11, 'min_gallons': 45000},\n",
    "    'Tier9': {'price': 0.10, 'min_gallons': 50000},\n",
    "    'Tier10': {'price': 0.07, 'min_gallons': 100000},\n",
    "}\n",
    "\n",
    "# Initial water storage\n",
    "initial_water_storage = 62500\n",
    "\n",
    "# Minimum allowed water storage\n",
    "min_water_storage = 30000\n",
    "\n",
    "# Maximum amount to use from tank in each week to maintain minimum storage\n",
    "max_from_tank_week1 = initial_water_storage + precipitation[0] - min_water_storage\n",
    "max_from_tank_week2 = initial_water_storage + sum(precipitation[:2]) - min_water_storage - max_from_tank_week1\n",
    "max_from_tank_week3 = initial_water_storage + sum(precipitation[:3]) - min_water_storage - max_from_tank_week1 - max_from_tank_week2\n",
    "max_from_tank_week4 = initial_water_storage + sum(precipitation) - min_water_storage - max_from_tank_week1 - max_from_tank_week2 - max_from_tank_week3\n",
    "\n",
    "# Results dictionary to store the best tier and its details\n",
    "results = {}\n",
    "best_tier = None\n",
    "lowest_cost = float('inf')\n",
    "\n",
    "# Evaluate each contract tier\n",
    "for tier, details in contract_tiers.items():\n",
    "    # Define the objective function for current tier\n",
    "    def objective(x):\n",
    "        purchased_gallons = x[:4]\n",
    "        used_from_tank = x[4:]\n",
    "        \n",
    "        # Calculate total cost\n",
    "        total_cost = sum(purchased_gallons * details['price'] + used_from_tank * treatment_costs)\n",
    "        \n",
    "        return total_cost\n",
    "    \n",
    "    # Initial guess - purchase minimum required and use 25% from tank\n",
    "    initial_guess = np.zeros(8)\n",
    "    for i in range(4):\n",
    "        # Ensure at least 25% comes from tank\n",
    "        tank_amount = max(0.25 * forecasted_demands[i], 0)\n",
    "        # Ensure we don't exceed max from tank\n",
    "        if i == 0:\n",
    "            tank_amount = min(tank_amount, max_from_tank_week1)\n",
    "        elif i == 1:\n",
    "            tank_amount = min(tank_amount, max_from_tank_week2)\n",
    "        elif i == 2:\n",
    "            tank_amount = min(tank_amount, max_from_tank_week3)\n",
    "        else:\n",
    "            tank_amount = min(tank_amount, max_from_tank_week4)\n",
    "        \n",
    "        initial_guess[i+4] = tank_amount\n",
    "        # Purchase the rest from Water Co., at least minimum required\n",
    "        initial_guess[i] = max(forecasted_demands[i] - tank_amount, details['min_gallons'])\n",
    "    \n",
    "    # Constraints\n",
    "    constraints = []\n",
    "    \n",
    "    # Constraint 1: Purchase at least minimum gallons from Water Co.\n",
    "    for i in range(4):\n",
    "        constraints.append({'type': 'ineq', 'fun': lambda x, i=i: x[i] - details['min_gallons']})\n",
    "    \n",
    "    # Constraint 2: Total supply must meet or exceed demand\n",
    "    for i in range(4):\n",
    "        constraints.append({'type': 'ineq', 'fun': lambda x, i=i: x[i] + x[i+4] - forecasted_demands[i]})\n",
    "    \n",
    "    # Constraint 3: At least 25% must come from Water Storage Tank\n",
    "    for i in range(4):\n",
    "        constraints.append({'type': 'ineq', 'fun': lambda x, i=i: x[i+4] - 0.25 * forecasted_demands[i]})\n",
    "    \n",
    "    # Constraint 4: Water storage must not drop below minimum\n",
    "    water_level = initial_water_storage\n",
    "    for i in range(4):\n",
    "        constraints.append({'type': 'ineq', 'fun': lambda x, i=i: \n",
    "                           initial_water_storage + sum(precipitation[:i+1]) - sum(x[4:i+5]) - min_water_storage})\n",
    "    \n",
    "    # Bounds: purchased gallons >= min_gallons, used from tank >= 0\n",
    "    bounds = [(details['min_gallons'], None) for _ in range(4)] + [(0, None) for _ in range(4)]\n",
    "    \n",
    "    # Perform optimization\n",
    "    result = minimize(objective, initial_guess, method='SLSQP', bounds=bounds, constraints=constraints, options={'maxiter': 1000})\n",
    "    \n",
    "    # Check if optimization was successful\n",
    "    if result.success:\n",
    "        purchased_gallons = result.x[:4]\n",
    "        used_from_tank = result.x[4:]\n",
    "        total_cost = objective(result.x)\n",
    "        \n",
    "        # Calculate water storage levels\n",
    "        water_storage = [initial_water_storage]\n",
    "        for i in range(4):\n",
    "            water_storage.append(water_storage[-1] + precipitation[i] - used_from_tank[i])\n",
    "        \n",
    "        # Store results\n",
    "        results[tier] = {\n",
    "            'purchased_gallons': purchased_gallons,\n",
    "            'used_from_tank': used_from_tank,\n",
    "            'total_cost': total_cost,\n",
    "            'water_storage': water_storage[1:],  # Skip initial storage\n",
    "            'success': result.success\n",
    "        }\n",
    "        \n",
    "        # Update best tier if this one has lower cost\n",
    "        if total_cost < lowest_cost:\n",
    "            lowest_cost = total_cost\n",
    "            best_tier = tier\n",
    "\n",
    "# Print results for the best tier\n",
    "if best_tier:\n",
    "    print(f\"Best Contract Tier: {best_tier}\")\n",
    "    print(f\"Total Water Cost: ${results[best_tier]['total_cost']:.2f}\")\n",
    "    print(\"\\nWeekly Allocation:\")\n",
    "    for i in range(4):\n",
    "        print(f\"Week {i+1}:\")\n",
    "        print(f\"  Purchase from Water Co.: {results[best_tier]['purchased_gallons'][i]:.2f} gallons\")\n",
    "        print(f\"  Use from Water Storage Tank: {results[best_tier]['used_from_tank'][i]:.2f} gallons\")\n",
    "        print(f\"  Ending Water Storage: {results[best_tier]['water_storage'][i]:.2f} gallons\")\n",
    "    \n",
    "    # Calculate savings compared to other tiers\n",
    "    print(\"\\nSavings compared to other tiers:\")\n",
    "    for tier in contract_tiers:\n",
    "        if tier != best_tier and results[tier]['success']:\n",
    "            savings = results[tier]['total_cost'] - results[best_tier]['total_cost']\n",
    "            print(f\"  Savings vs {tier}: ${savings:.2f}\")\n",
    "else:\n",
    "    print(\"No feasible solution found.\")"
   ]
  },
  {
   "cell_type": "code",
   "execution_count": null,
   "id": "c839ca6f-b0a8-401a-9761-f631246b8dd0",
   "metadata": {},
   "outputs": [],
   "source": []
  }
 ],
 "metadata": {
  "kernelspec": {
   "display_name": "Python 3 (ipykernel)",
   "language": "python",
   "name": "python3"
  },
  "language_info": {
   "codemirror_mode": {
    "name": "ipython",
    "version": 3
   },
   "file_extension": ".py",
   "mimetype": "text/x-python",
   "name": "python",
   "nbconvert_exporter": "python",
   "pygments_lexer": "ipython3",
   "version": "3.12.4"
  }
 },
 "nbformat": 4,
 "nbformat_minor": 5
}
